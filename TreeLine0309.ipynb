{
 "cells": [
  {
   "cell_type": "code",
   "execution_count": 3,
   "id": "75237b52-1795-4cb3-8286-78d1e615cad9",
   "metadata": {},
   "outputs": [
    {
     "name": "stdout",
     "output_type": "stream",
     "text": [
      "[4, 0, 0, 0]\n"
     ]
    }
   ],
   "source": [
    "import time\n",
    "from sage.graphs.graph_generators import graphs\n",
    "\n",
    "def UnlabeledUnrootedTrees(n):\n",
    "    start = time.time()\n",
    "    \n",
    "    # Generate trees using Nauty\n",
    "    trees = [G for G in graphs.nauty_geng(f\"{n} {n-1}:c\") if G.is_tree()]\n",
    "    canonical_graph_set = set()\n",
    "    for G in trees:\n",
    "        # canonical form of the graph\n",
    "        canonical_graph = G.canonical_label()\n",
    "        # in python/sage the graph must be immutable before it can be added to a set, manipulated\n",
    "        immutable_graph = canonical_graph.copy(immutable=True)\n",
    "        canonical_graph_set.add(immutable_graph)\n",
    "    \n",
    "    end = time.time()\n",
    "    #print(f\"Generated {len(canonical_graph_set)} unique trees on {n} vertices in {end - start:.2f} seconds\")\n",
    "    # Return the unique canonical graphs (graph objects)\n",
    "    return list(canonical_graph_set)  # Return as a list of graphs\n",
    "\n",
    "\n",
    "def GrahamSeq(G, iterations):\n",
    " sequence=[]\n",
    " currentgraph = G\n",
    " if not isinstance(currentgraph, Graph):\n",
    "    raise ValueError(\"currentgraph is wrong type\")\n",
    " for i in range(iterations):\n",
    "     sequence.append(currentgraph.order())\n",
    "     currentgraph= currentgraph.line_graph()\n",
    " #print(sequence)\n",
    " return(sequence)\n",
    "\n",
    "#tuples preserve order\n",
    "def SeqCountCompare(n,m):\n",
    "    uniqueseqs = set()\n",
    "    for G in UnlabeledUnrootedTrees(n):\n",
    "        uniqueseqs.add(tuple(GrahamSeq(G, Integer(m)))) \n",
    "#OEIS A000055\n",
    "    treecounts=[1, 1, 1, 1, 2, 3, 6, 11, 23, 47, 106, 235, 551, \n",
    "            1301, 3159, 7741, 19320, 48629, 123867, 317955,\n",
    "            823065, 2144505, 5623756, 14828074, 39299897, 104636890,\n",
    "            279793450, 751065460, 2023443032, 5469566585, 14830871802]\n",
    "    #print([treecounts[n], len(uniqueseqs)])\n",
    "    return([treecounts[n], len(uniqueseqs)])  \n"
   ]
  },
  {
   "cell_type": "code",
   "execution_count": 98,
   "id": "e066bf58-8de1-4c5a-95ac-18bf0abd876a",
   "metadata": {},
   "outputs": [
    {
     "name": "stdout",
     "output_type": "stream",
     "text": [
      "Generated 2 unique trees on 4 vertices in 0.03 seconds\n",
      "Generated 3 unique trees on 5 vertices in 0.02 seconds\n",
      "Generated 6 unique trees on 6 vertices in 0.02 seconds\n",
      "Generated 11 unique trees on 7 vertices in 0.02 seconds\n",
      "Generated 23 unique trees on 8 vertices in 0.02 seconds\n",
      "Generated 47 unique trees on 9 vertices in 0.03 seconds\n",
      "Generated 106 unique trees on 10 vertices in 0.05 seconds\n",
      "Generated 235 unique trees on 11 vertices in 0.13 seconds\n",
      "Generated 551 unique trees on 12 vertices in 0.45 seconds\n",
      "Generated 1301 unique trees on 13 vertices in 1.35 seconds\n",
      "Generated 3159 unique trees on 14 vertices in 5.12 seconds\n",
      "Generated 7741 unique trees on 15 vertices in 20.65 seconds\n",
      "Generated 2 unique trees on 4 vertices in 0.02 seconds\n",
      "Generated 3 unique trees on 5 vertices in 0.01 seconds\n",
      "Generated 6 unique trees on 6 vertices in 0.01 seconds\n",
      "Generated 11 unique trees on 7 vertices in 0.02 seconds\n",
      "Generated 23 unique trees on 8 vertices in 0.04 seconds\n",
      "Generated 47 unique trees on 9 vertices in 0.04 seconds\n",
      "Generated 106 unique trees on 10 vertices in 0.05 seconds\n",
      "Generated 235 unique trees on 11 vertices in 0.13 seconds\n",
      "Generated 551 unique trees on 12 vertices in 0.39 seconds\n",
      "Generated 1301 unique trees on 13 vertices in 1.34 seconds\n",
      "Generated 3159 unique trees on 14 vertices in 5.13 seconds\n",
      "[2, 3, 6, 11, 23, 47, 106, 235, 551, 1301, 3159]\n"
     ]
    }
   ],
   "source": [
    "#We are generating the right number of trees\n",
    "treecounts=[1, 1, 1, 1, 2, 3, 6, 11, 23, 47, 106, 235, 551, \n",
    "            1301, 3159, 7741, 19320, 48629, 123867, 317955,\n",
    "            823065, 2144505, 5623756, 14828074, 39299897, 104636890,\n",
    "            279793450, 751065460, 2023443032, 5469566585, 14830871802]\n",
    "\n",
    "[len(UnlabeledUnrootedTrees(4)),len(UnlabeledUnrootedTrees(5)),len(UnlabeledUnrootedTrees(6)),\n",
    "len(UnlabeledUnrootedTrees(7)),len(UnlabeledUnrootedTrees(8)),len(UnlabeledUnrootedTrees(9)),\n",
    "len(UnlabeledUnrootedTrees(10)),len(UnlabeledUnrootedTrees(11)),len(UnlabeledUnrootedTrees(12))\n",
    ", len(UnlabeledUnrootedTrees(13)), len(UnlabeledUnrootedTrees(14)), len(UnlabeledUnrootedTrees(15))]\n",
    "\n",
    "mytreecounts=[]\n",
    "for i in range (4,15):\n",
    "    mytreecounts.append(len(UnlabeledUnrootedTrees(i)))\n",
    "print(mytreecounts)"
   ]
  },
  {
   "cell_type": "code",
   "execution_count": null,
   "id": "5339713b-420f-4279-a3c4-1645b40b18f2",
   "metadata": {},
   "outputs": [],
   "source": [
    "#DiscrepancySeq gives the difference between the number of trees on n vertices and the number\n",
    "#of distinct Graham sequences of length a, a+1, ..., b-1. As the length of the Graham Sequence \n",
    "#increases, the difference should decrease, since the two trees may, e.g. have the same \n",
    "#first three terms but differ in the fourth. \n",
    "#if we write as a table where the columns are the length of a sequence and the rows are the number of vertices, we have OEIS potential\n",
    "\n",
    "def DiscrepancySeq(n, a, b):\n",
    "    listofdiscrepancies=[]\n",
    "    for i in range(a, b):\n",
    "        listofdiscrepancies.append(SeqCountCompare(n, i)[0]-SeqCountCompare(n,i)[1])\n",
    "    print(listofdiscrepancies)\n",
    "DiscrepancySeq(4, 3, 6)\n",
    "\n",
    "\n",
    "#LengthtoDistinguish will give the length necessary to get a discrepancy of 0 for each n. This will yield a sequence with OEIS potential\n",
    "#-def LengthtoDistinguish(n, a, b):\n",
    "    #for i in range (n+1):\n",
    "        #for j in range (a, b-1):\n",
    "            #k=10^10\n",
    "            #while k > 0 \n",
    "                #k=DiscrepancySeq[j]\n",
    "            "
   ]
  },
  {
   "cell_type": "code",
   "execution_count": 10,
   "id": "52abd0dc-c6e5-4860-9e7d-e3457a325ad0",
   "metadata": {},
   "outputs": [
    {
     "name": "stdout",
     "output_type": "stream",
     "text": [
      "[3, 1]\n",
      "[3, 1]\n",
      "[3, 1]\n",
      "[3, 3]\n",
      "[3, 3]\n",
      "[3, 3]\n"
     ]
    }
   ],
   "source": [
    "for i in range(6):\n",
    "  print(SeqCountCompare(5,i))"
   ]
  },
  {
   "cell_type": "code",
   "execution_count": null,
   "id": "e96707b7-e22b-433a-b4fc-f561ae0f7e55",
   "metadata": {},
   "outputs": [],
   "source": []
  }
 ],
 "metadata": {
  "kernelspec": {
   "display_name": "SageMath 10.0",
   "language": "sage",
   "name": "sagemath-10.0"
  },
  "language_info": {
   "codemirror_mode": {
    "name": "ipython",
    "version": 3
   },
   "file_extension": ".py",
   "mimetype": "text/x-python",
   "name": "python",
   "nbconvert_exporter": "python",
   "pygments_lexer": "ipython3",
   "version": "3.11.1"
  }
 },
 "nbformat": 4,
 "nbformat_minor": 5
}
